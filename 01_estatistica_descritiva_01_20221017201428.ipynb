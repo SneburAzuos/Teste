{
  "cells": [
    {
      "metadata": {
        "_uuid": "8f2839f25d086af736a60e9eeb907d3b93b6e0e5",
        "_cell_guid": "b1076dfc-b9ad-4769-8c92-a6c4dae69d19",
        "trusted": true,
        "id": "n-znkXUwk2m_"
      },
      "cell_type": "code",
      "source": [
        "4import numpy as np  # linear algebra\n",
        "import pandas as pd # data processing, CSV file I/O (e.g. pd.read_csv)\n",
        "import io\n"
      ],
      "execution_count": null,
      "outputs": []
    },
    {
      "metadata": {
        "_cell_guid": "79c7e3d0-c299-4dcb-8224-4455121ee9b0",
        "_uuid": "d629ff2d2480ee46fbb7e2d37f6b5fab8052498a",
        "trusted": true,
        "id": "A4Hz_Qtkk2nH"
      },
      "cell_type": "code",
      "source": [
        "#importando o dataset (https://archive.ics.uci.edu/ml/machine-learning-databases/iris/)\n",
        "url = \"https://archive.ics.uci.edu/ml/machine-learning-databases/iris/iris.data\"\n",
        "df = pd.read_csv(url) # le o csv e coloca em uma estrutura de dados denominada dataframe"
      ],
      "execution_count": null,
      "outputs": []
    },
    {
      "metadata": {
        "trusted": true,
        "_uuid": "2b93938769a9c7f82a90b039de9df7e7db12b2cd",
        "colab": {
          "base_uri": "https://localhost:8080/"
        },
        "id": "7cBQcPSwk2nJ",
        "outputId": "74a221b0-ed40-4222-c43b-a4d9ae914d03"
      },
      "cell_type": "code",
      "source": [
        "df.shape #número de linhas e colunas do dataset"
      ],
      "execution_count": null,
      "outputs": [
        {
          "output_type": "execute_result",
          "data": {
            "text/plain": [
              "(149, 5)"
            ]
          },
          "metadata": {},
          "execution_count": 3
        }
      ]
    },
    {
      "metadata": {
        "trusted": true,
        "_uuid": "83c1c0f362dfc53d0a5b94fbfcd6923212dc0ae7",
        "colab": {
          "base_uri": "https://localhost:8080/"
        },
        "id": "wrIndDFIk2nL",
        "outputId": "846ea958-75dd-4d6e-e77d-d0ab5bc8e118"
      },
      "cell_type": "code",
      "source": [
        "df.info() #informações básicas do dataset"
      ],
      "execution_count": null,
      "outputs": [
        {
          "output_type": "stream",
          "name": "stdout",
          "text": [
            "<class 'pandas.core.frame.DataFrame'>\n",
            "RangeIndex: 149 entries, 0 to 148\n",
            "Data columns (total 5 columns):\n",
            " #   Column       Non-Null Count  Dtype  \n",
            "---  ------       --------------  -----  \n",
            " 0   5.1          149 non-null    float64\n",
            " 1   3.5          149 non-null    float64\n",
            " 2   1.4          149 non-null    float64\n",
            " 3   0.2          149 non-null    float64\n",
            " 4   Iris-setosa  149 non-null    object \n",
            "dtypes: float64(4), object(1)\n",
            "memory usage: 5.9+ KB\n"
          ]
        }
      ]
    },
    {
      "metadata": {
        "trusted": true,
        "_uuid": "8b60e484f9e128e7e051254affbccb7f44eb60a0",
        "colab": {
          "base_uri": "https://localhost:8080/",
          "height": 363
        },
        "id": "6V2geaYNk2nN",
        "outputId": "d40c5ffd-c360-4f82-dc07-ccb2351d9c55"
      },
      "cell_type": "code",
      "source": [
        "df.head(10) #uma amostra do dataset"
      ],
      "execution_count": null,
      "outputs": [
        {
          "output_type": "execute_result",
          "data": {
            "text/plain": [
              "   5.1  3.5  1.4  0.2  Iris-setosa\n",
              "0  4.9  3.0  1.4  0.2  Iris-setosa\n",
              "1  4.7  3.2  1.3  0.2  Iris-setosa\n",
              "2  4.6  3.1  1.5  0.2  Iris-setosa\n",
              "3  5.0  3.6  1.4  0.2  Iris-setosa\n",
              "4  5.4  3.9  1.7  0.4  Iris-setosa\n",
              "5  4.6  3.4  1.4  0.3  Iris-setosa\n",
              "6  5.0  3.4  1.5  0.2  Iris-setosa\n",
              "7  4.4  2.9  1.4  0.2  Iris-setosa\n",
              "8  4.9  3.1  1.5  0.1  Iris-setosa\n",
              "9  5.4  3.7  1.5  0.2  Iris-setosa"
            ],
            "text/html": [
              "\n",
              "  <div id=\"df-f1facc7f-c8a3-4668-aacc-0753ad2a92cd\">\n",
              "    <div class=\"colab-df-container\">\n",
              "      <div>\n",
              "<style scoped>\n",
              "    .dataframe tbody tr th:only-of-type {\n",
              "        vertical-align: middle;\n",
              "    }\n",
              "\n",
              "    .dataframe tbody tr th {\n",
              "        vertical-align: top;\n",
              "    }\n",
              "\n",
              "    .dataframe thead th {\n",
              "        text-align: right;\n",
              "    }\n",
              "</style>\n",
              "<table border=\"1\" class=\"dataframe\">\n",
              "  <thead>\n",
              "    <tr style=\"text-align: right;\">\n",
              "      <th></th>\n",
              "      <th>5.1</th>\n",
              "      <th>3.5</th>\n",
              "      <th>1.4</th>\n",
              "      <th>0.2</th>\n",
              "      <th>Iris-setosa</th>\n",
              "    </tr>\n",
              "  </thead>\n",
              "  <tbody>\n",
              "    <tr>\n",
              "      <th>0</th>\n",
              "      <td>4.9</td>\n",
              "      <td>3.0</td>\n",
              "      <td>1.4</td>\n",
              "      <td>0.2</td>\n",
              "      <td>Iris-setosa</td>\n",
              "    </tr>\n",
              "    <tr>\n",
              "      <th>1</th>\n",
              "      <td>4.7</td>\n",
              "      <td>3.2</td>\n",
              "      <td>1.3</td>\n",
              "      <td>0.2</td>\n",
              "      <td>Iris-setosa</td>\n",
              "    </tr>\n",
              "    <tr>\n",
              "      <th>2</th>\n",
              "      <td>4.6</td>\n",
              "      <td>3.1</td>\n",
              "      <td>1.5</td>\n",
              "      <td>0.2</td>\n",
              "      <td>Iris-setosa</td>\n",
              "    </tr>\n",
              "    <tr>\n",
              "      <th>3</th>\n",
              "      <td>5.0</td>\n",
              "      <td>3.6</td>\n",
              "      <td>1.4</td>\n",
              "      <td>0.2</td>\n",
              "      <td>Iris-setosa</td>\n",
              "    </tr>\n",
              "    <tr>\n",
              "      <th>4</th>\n",
              "      <td>5.4</td>\n",
              "      <td>3.9</td>\n",
              "      <td>1.7</td>\n",
              "      <td>0.4</td>\n",
              "      <td>Iris-setosa</td>\n",
              "    </tr>\n",
              "    <tr>\n",
              "      <th>5</th>\n",
              "      <td>4.6</td>\n",
              "      <td>3.4</td>\n",
              "      <td>1.4</td>\n",
              "      <td>0.3</td>\n",
              "      <td>Iris-setosa</td>\n",
              "    </tr>\n",
              "    <tr>\n",
              "      <th>6</th>\n",
              "      <td>5.0</td>\n",
              "      <td>3.4</td>\n",
              "      <td>1.5</td>\n",
              "      <td>0.2</td>\n",
              "      <td>Iris-setosa</td>\n",
              "    </tr>\n",
              "    <tr>\n",
              "      <th>7</th>\n",
              "      <td>4.4</td>\n",
              "      <td>2.9</td>\n",
              "      <td>1.4</td>\n",
              "      <td>0.2</td>\n",
              "      <td>Iris-setosa</td>\n",
              "    </tr>\n",
              "    <tr>\n",
              "      <th>8</th>\n",
              "      <td>4.9</td>\n",
              "      <td>3.1</td>\n",
              "      <td>1.5</td>\n",
              "      <td>0.1</td>\n",
              "      <td>Iris-setosa</td>\n",
              "    </tr>\n",
              "    <tr>\n",
              "      <th>9</th>\n",
              "      <td>5.4</td>\n",
              "      <td>3.7</td>\n",
              "      <td>1.5</td>\n",
              "      <td>0.2</td>\n",
              "      <td>Iris-setosa</td>\n",
              "    </tr>\n",
              "  </tbody>\n",
              "</table>\n",
              "</div>\n",
              "      <button class=\"colab-df-convert\" onclick=\"convertToInteractive('df-f1facc7f-c8a3-4668-aacc-0753ad2a92cd')\"\n",
              "              title=\"Convert this dataframe to an interactive table.\"\n",
              "              style=\"display:none;\">\n",
              "        \n",
              "  <svg xmlns=\"http://www.w3.org/2000/svg\" height=\"24px\"viewBox=\"0 0 24 24\"\n",
              "       width=\"24px\">\n",
              "    <path d=\"M0 0h24v24H0V0z\" fill=\"none\"/>\n",
              "    <path d=\"M18.56 5.44l.94 2.06.94-2.06 2.06-.94-2.06-.94-.94-2.06-.94 2.06-2.06.94zm-11 1L8.5 8.5l.94-2.06 2.06-.94-2.06-.94L8.5 2.5l-.94 2.06-2.06.94zm10 10l.94 2.06.94-2.06 2.06-.94-2.06-.94-.94-2.06-.94 2.06-2.06.94z\"/><path d=\"M17.41 7.96l-1.37-1.37c-.4-.4-.92-.59-1.43-.59-.52 0-1.04.2-1.43.59L10.3 9.45l-7.72 7.72c-.78.78-.78 2.05 0 2.83L4 21.41c.39.39.9.59 1.41.59.51 0 1.02-.2 1.41-.59l7.78-7.78 2.81-2.81c.8-.78.8-2.07 0-2.86zM5.41 20L4 18.59l7.72-7.72 1.47 1.35L5.41 20z\"/>\n",
              "  </svg>\n",
              "      </button>\n",
              "      \n",
              "  <style>\n",
              "    .colab-df-container {\n",
              "      display:flex;\n",
              "      flex-wrap:wrap;\n",
              "      gap: 12px;\n",
              "    }\n",
              "\n",
              "    .colab-df-convert {\n",
              "      background-color: #E8F0FE;\n",
              "      border: none;\n",
              "      border-radius: 50%;\n",
              "      cursor: pointer;\n",
              "      display: none;\n",
              "      fill: #1967D2;\n",
              "      height: 32px;\n",
              "      padding: 0 0 0 0;\n",
              "      width: 32px;\n",
              "    }\n",
              "\n",
              "    .colab-df-convert:hover {\n",
              "      background-color: #E2EBFA;\n",
              "      box-shadow: 0px 1px 2px rgba(60, 64, 67, 0.3), 0px 1px 3px 1px rgba(60, 64, 67, 0.15);\n",
              "      fill: #174EA6;\n",
              "    }\n",
              "\n",
              "    [theme=dark] .colab-df-convert {\n",
              "      background-color: #3B4455;\n",
              "      fill: #D2E3FC;\n",
              "    }\n",
              "\n",
              "    [theme=dark] .colab-df-convert:hover {\n",
              "      background-color: #434B5C;\n",
              "      box-shadow: 0px 1px 3px 1px rgba(0, 0, 0, 0.15);\n",
              "      filter: drop-shadow(0px 1px 2px rgba(0, 0, 0, 0.3));\n",
              "      fill: #FFFFFF;\n",
              "    }\n",
              "  </style>\n",
              "\n",
              "      <script>\n",
              "        const buttonEl =\n",
              "          document.querySelector('#df-f1facc7f-c8a3-4668-aacc-0753ad2a92cd button.colab-df-convert');\n",
              "        buttonEl.style.display =\n",
              "          google.colab.kernel.accessAllowed ? 'block' : 'none';\n",
              "\n",
              "        async function convertToInteractive(key) {\n",
              "          const element = document.querySelector('#df-f1facc7f-c8a3-4668-aacc-0753ad2a92cd');\n",
              "          const dataTable =\n",
              "            await google.colab.kernel.invokeFunction('convertToInteractive',\n",
              "                                                     [key], {});\n",
              "          if (!dataTable) return;\n",
              "\n",
              "          const docLinkHtml = 'Like what you see? Visit the ' +\n",
              "            '<a target=\"_blank\" href=https://colab.research.google.com/notebooks/data_table.ipynb>data table notebook</a>'\n",
              "            + ' to learn more about interactive tables.';\n",
              "          element.innerHTML = '';\n",
              "          dataTable['output_type'] = 'display_data';\n",
              "          await google.colab.output.renderOutput(dataTable, element);\n",
              "          const docLink = document.createElement('div');\n",
              "          docLink.innerHTML = docLinkHtml;\n",
              "          element.appendChild(docLink);\n",
              "        }\n",
              "      </script>\n",
              "    </div>\n",
              "  </div>\n",
              "  "
            ]
          },
          "metadata": {},
          "execution_count": 5
        }
      ]
    },
    {
      "metadata": {
        "trusted": true,
        "_uuid": "bfae9521b27fce9adba05f7891b2e36062afe37d",
        "id": "0aYAwJGOk2nP"
      },
      "cell_type": "code",
      "source": [
        "df.columns = ['SepalL','SepalW','PetalL','PetalW','especie'] #alterando o nome das colunas"
      ],
      "execution_count": null,
      "outputs": []
    },
    {
      "metadata": {
        "trusted": true,
        "_uuid": "09c79a12d82b1c4a50e90bd286b2be3a46423078",
        "colab": {
          "base_uri": "https://localhost:8080/"
        },
        "id": "qWYyOOKbk2nS",
        "outputId": "b8606881-fe97-459e-95d0-85f81d492f89"
      },
      "cell_type": "code",
      "source": [
        "df['SepalL'] #mostrando apenas uma coluna"
      ],
      "execution_count": null,
      "outputs": [
        {
          "output_type": "execute_result",
          "data": {
            "text/plain": [
              "0      4.9\n",
              "1      4.7\n",
              "2      4.6\n",
              "3      5.0\n",
              "4      5.4\n",
              "      ... \n",
              "144    6.7\n",
              "145    6.3\n",
              "146    6.5\n",
              "147    6.2\n",
              "148    5.9\n",
              "Name: SepalL, Length: 149, dtype: float64"
            ]
          },
          "metadata": {},
          "execution_count": 7
        }
      ]
    },
    {
      "cell_type": "code",
      "source": [
        "# Calculo de Frequência .value_counts()\n",
        "df['SepalL'].value_counts()"
      ],
      "metadata": {
        "colab": {
          "base_uri": "https://localhost:8080/"
        },
        "id": "5jgXpKfGoO8a",
        "outputId": "0dc12a84-87ce-43f2-eb02-1a5120850561"
      },
      "execution_count": null,
      "outputs": [
        {
          "output_type": "execute_result",
          "data": {
            "text/plain": [
              "5.0    10\n",
              "6.3     9\n",
              "6.7     8\n",
              "5.1     8\n",
              "5.7     8\n",
              "5.8     7\n",
              "5.5     7\n",
              "6.4     7\n",
              "5.6     6\n",
              "5.4     6\n",
              "6.1     6\n",
              "6.0     6\n",
              "4.9     6\n",
              "6.5     5\n",
              "4.8     5\n",
              "6.2     4\n",
              "7.7     4\n",
              "6.9     4\n",
              "5.2     4\n",
              "4.6     4\n",
              "4.4     3\n",
              "5.9     3\n",
              "7.2     3\n",
              "6.8     3\n",
              "4.7     2\n",
              "6.6     2\n",
              "4.3     1\n",
              "7.0     1\n",
              "4.5     1\n",
              "7.1     1\n",
              "7.6     1\n",
              "7.3     1\n",
              "5.3     1\n",
              "7.4     1\n",
              "7.9     1\n",
              "Name: SepalL, dtype: int64"
            ]
          },
          "metadata": {},
          "execution_count": 8
        }
      ]
    },
    {
      "metadata": {
        "trusted": true,
        "_uuid": "1f762f6b162ac63796f2134eea71b496c93cacbd",
        "colab": {
          "base_uri": "https://localhost:8080/",
          "height": 175
        },
        "id": "-8P9FtbTk2nY",
        "outputId": "37ea8954-1d05-4b10-a754-7b932abf9528"
      },
      "cell_type": "code",
      "source": [
        "#fatiando o data set, o iloc trabalha com indices [inicio:fim, inicio:fim] sendo o primeiro parâmetro linhas e o segundo colunas\n",
        "df.iloc[4:8,3:5] "
      ],
      "execution_count": null,
      "outputs": [
        {
          "output_type": "execute_result",
          "data": {
            "text/plain": [
              "   PetalW      Species\n",
              "4     0.4  Iris-setosa\n",
              "5     0.3  Iris-setosa\n",
              "6     0.2  Iris-setosa\n",
              "7     0.2  Iris-setosa"
            ],
            "text/html": [
              "\n",
              "  <div id=\"df-abc7522e-4a8f-4e43-b732-c220969632b6\">\n",
              "    <div class=\"colab-df-container\">\n",
              "      <div>\n",
              "<style scoped>\n",
              "    .dataframe tbody tr th:only-of-type {\n",
              "        vertical-align: middle;\n",
              "    }\n",
              "\n",
              "    .dataframe tbody tr th {\n",
              "        vertical-align: top;\n",
              "    }\n",
              "\n",
              "    .dataframe thead th {\n",
              "        text-align: right;\n",
              "    }\n",
              "</style>\n",
              "<table border=\"1\" class=\"dataframe\">\n",
              "  <thead>\n",
              "    <tr style=\"text-align: right;\">\n",
              "      <th></th>\n",
              "      <th>PetalW</th>\n",
              "      <th>Species</th>\n",
              "    </tr>\n",
              "  </thead>\n",
              "  <tbody>\n",
              "    <tr>\n",
              "      <th>4</th>\n",
              "      <td>0.4</td>\n",
              "      <td>Iris-setosa</td>\n",
              "    </tr>\n",
              "    <tr>\n",
              "      <th>5</th>\n",
              "      <td>0.3</td>\n",
              "      <td>Iris-setosa</td>\n",
              "    </tr>\n",
              "    <tr>\n",
              "      <th>6</th>\n",
              "      <td>0.2</td>\n",
              "      <td>Iris-setosa</td>\n",
              "    </tr>\n",
              "    <tr>\n",
              "      <th>7</th>\n",
              "      <td>0.2</td>\n",
              "      <td>Iris-setosa</td>\n",
              "    </tr>\n",
              "  </tbody>\n",
              "</table>\n",
              "</div>\n",
              "      <button class=\"colab-df-convert\" onclick=\"convertToInteractive('df-abc7522e-4a8f-4e43-b732-c220969632b6')\"\n",
              "              title=\"Convert this dataframe to an interactive table.\"\n",
              "              style=\"display:none;\">\n",
              "        \n",
              "  <svg xmlns=\"http://www.w3.org/2000/svg\" height=\"24px\"viewBox=\"0 0 24 24\"\n",
              "       width=\"24px\">\n",
              "    <path d=\"M0 0h24v24H0V0z\" fill=\"none\"/>\n",
              "    <path d=\"M18.56 5.44l.94 2.06.94-2.06 2.06-.94-2.06-.94-.94-2.06-.94 2.06-2.06.94zm-11 1L8.5 8.5l.94-2.06 2.06-.94-2.06-.94L8.5 2.5l-.94 2.06-2.06.94zm10 10l.94 2.06.94-2.06 2.06-.94-2.06-.94-.94-2.06-.94 2.06-2.06.94z\"/><path d=\"M17.41 7.96l-1.37-1.37c-.4-.4-.92-.59-1.43-.59-.52 0-1.04.2-1.43.59L10.3 9.45l-7.72 7.72c-.78.78-.78 2.05 0 2.83L4 21.41c.39.39.9.59 1.41.59.51 0 1.02-.2 1.41-.59l7.78-7.78 2.81-2.81c.8-.78.8-2.07 0-2.86zM5.41 20L4 18.59l7.72-7.72 1.47 1.35L5.41 20z\"/>\n",
              "  </svg>\n",
              "      </button>\n",
              "      \n",
              "  <style>\n",
              "    .colab-df-container {\n",
              "      display:flex;\n",
              "      flex-wrap:wrap;\n",
              "      gap: 12px;\n",
              "    }\n",
              "\n",
              "    .colab-df-convert {\n",
              "      background-color: #E8F0FE;\n",
              "      border: none;\n",
              "      border-radius: 50%;\n",
              "      cursor: pointer;\n",
              "      display: none;\n",
              "      fill: #1967D2;\n",
              "      height: 32px;\n",
              "      padding: 0 0 0 0;\n",
              "      width: 32px;\n",
              "    }\n",
              "\n",
              "    .colab-df-convert:hover {\n",
              "      background-color: #E2EBFA;\n",
              "      box-shadow: 0px 1px 2px rgba(60, 64, 67, 0.3), 0px 1px 3px 1px rgba(60, 64, 67, 0.15);\n",
              "      fill: #174EA6;\n",
              "    }\n",
              "\n",
              "    [theme=dark] .colab-df-convert {\n",
              "      background-color: #3B4455;\n",
              "      fill: #D2E3FC;\n",
              "    }\n",
              "\n",
              "    [theme=dark] .colab-df-convert:hover {\n",
              "      background-color: #434B5C;\n",
              "      box-shadow: 0px 1px 3px 1px rgba(0, 0, 0, 0.15);\n",
              "      filter: drop-shadow(0px 1px 2px rgba(0, 0, 0, 0.3));\n",
              "      fill: #FFFFFF;\n",
              "    }\n",
              "  </style>\n",
              "\n",
              "      <script>\n",
              "        const buttonEl =\n",
              "          document.querySelector('#df-abc7522e-4a8f-4e43-b732-c220969632b6 button.colab-df-convert');\n",
              "        buttonEl.style.display =\n",
              "          google.colab.kernel.accessAllowed ? 'block' : 'none';\n",
              "\n",
              "        async function convertToInteractive(key) {\n",
              "          const element = document.querySelector('#df-abc7522e-4a8f-4e43-b732-c220969632b6');\n",
              "          const dataTable =\n",
              "            await google.colab.kernel.invokeFunction('convertToInteractive',\n",
              "                                                     [key], {});\n",
              "          if (!dataTable) return;\n",
              "\n",
              "          const docLinkHtml = 'Like what you see? Visit the ' +\n",
              "            '<a target=\"_blank\" href=https://colab.research.google.com/notebooks/data_table.ipynb>data table notebook</a>'\n",
              "            + ' to learn more about interactive tables.';\n",
              "          element.innerHTML = '';\n",
              "          dataTable['output_type'] = 'display_data';\n",
              "          await google.colab.output.renderOutput(dataTable, element);\n",
              "          const docLink = document.createElement('div');\n",
              "          docLink.innerHTML = docLinkHtml;\n",
              "          element.appendChild(docLink);\n",
              "        }\n",
              "      </script>\n",
              "    </div>\n",
              "  </div>\n",
              "  "
            ]
          },
          "metadata": {},
          "execution_count": 14
        }
      ]
    },
    {
      "metadata": {
        "trusted": true,
        "_uuid": "1f62c79128adadf1bf8742d6b87d9404b3208dae",
        "colab": {
          "base_uri": "https://localhost:8080/",
          "height": 175
        },
        "id": "X9_dc9v0k2nb",
        "outputId": "9e179d96-e9e7-4928-c277-6e9763ca8fdc"
      },
      "cell_type": "code",
      "source": [
        "#aqui estou fatiando passando linhas e colunas específicas em dois arrays linhas[2,3,7,8], colunas [3,4]\n",
        "df.iloc[[2,3,7,8],[3,4]] "
      ],
      "execution_count": null,
      "outputs": [
        {
          "output_type": "execute_result",
          "data": {
            "text/plain": [
              "   PetalW      Species\n",
              "2     0.2  Iris-setosa\n",
              "3     0.2  Iris-setosa\n",
              "7     0.2  Iris-setosa\n",
              "8     0.1  Iris-setosa"
            ],
            "text/html": [
              "\n",
              "  <div id=\"df-ca174703-b74a-4f71-b2ad-fe4f65cfd26f\">\n",
              "    <div class=\"colab-df-container\">\n",
              "      <div>\n",
              "<style scoped>\n",
              "    .dataframe tbody tr th:only-of-type {\n",
              "        vertical-align: middle;\n",
              "    }\n",
              "\n",
              "    .dataframe tbody tr th {\n",
              "        vertical-align: top;\n",
              "    }\n",
              "\n",
              "    .dataframe thead th {\n",
              "        text-align: right;\n",
              "    }\n",
              "</style>\n",
              "<table border=\"1\" class=\"dataframe\">\n",
              "  <thead>\n",
              "    <tr style=\"text-align: right;\">\n",
              "      <th></th>\n",
              "      <th>PetalW</th>\n",
              "      <th>Species</th>\n",
              "    </tr>\n",
              "  </thead>\n",
              "  <tbody>\n",
              "    <tr>\n",
              "      <th>2</th>\n",
              "      <td>0.2</td>\n",
              "      <td>Iris-setosa</td>\n",
              "    </tr>\n",
              "    <tr>\n",
              "      <th>3</th>\n",
              "      <td>0.2</td>\n",
              "      <td>Iris-setosa</td>\n",
              "    </tr>\n",
              "    <tr>\n",
              "      <th>7</th>\n",
              "      <td>0.2</td>\n",
              "      <td>Iris-setosa</td>\n",
              "    </tr>\n",
              "    <tr>\n",
              "      <th>8</th>\n",
              "      <td>0.1</td>\n",
              "      <td>Iris-setosa</td>\n",
              "    </tr>\n",
              "  </tbody>\n",
              "</table>\n",
              "</div>\n",
              "      <button class=\"colab-df-convert\" onclick=\"convertToInteractive('df-ca174703-b74a-4f71-b2ad-fe4f65cfd26f')\"\n",
              "              title=\"Convert this dataframe to an interactive table.\"\n",
              "              style=\"display:none;\">\n",
              "        \n",
              "  <svg xmlns=\"http://www.w3.org/2000/svg\" height=\"24px\"viewBox=\"0 0 24 24\"\n",
              "       width=\"24px\">\n",
              "    <path d=\"M0 0h24v24H0V0z\" fill=\"none\"/>\n",
              "    <path d=\"M18.56 5.44l.94 2.06.94-2.06 2.06-.94-2.06-.94-.94-2.06-.94 2.06-2.06.94zm-11 1L8.5 8.5l.94-2.06 2.06-.94-2.06-.94L8.5 2.5l-.94 2.06-2.06.94zm10 10l.94 2.06.94-2.06 2.06-.94-2.06-.94-.94-2.06-.94 2.06-2.06.94z\"/><path d=\"M17.41 7.96l-1.37-1.37c-.4-.4-.92-.59-1.43-.59-.52 0-1.04.2-1.43.59L10.3 9.45l-7.72 7.72c-.78.78-.78 2.05 0 2.83L4 21.41c.39.39.9.59 1.41.59.51 0 1.02-.2 1.41-.59l7.78-7.78 2.81-2.81c.8-.78.8-2.07 0-2.86zM5.41 20L4 18.59l7.72-7.72 1.47 1.35L5.41 20z\"/>\n",
              "  </svg>\n",
              "      </button>\n",
              "      \n",
              "  <style>\n",
              "    .colab-df-container {\n",
              "      display:flex;\n",
              "      flex-wrap:wrap;\n",
              "      gap: 12px;\n",
              "    }\n",
              "\n",
              "    .colab-df-convert {\n",
              "      background-color: #E8F0FE;\n",
              "      border: none;\n",
              "      border-radius: 50%;\n",
              "      cursor: pointer;\n",
              "      display: none;\n",
              "      fill: #1967D2;\n",
              "      height: 32px;\n",
              "      padding: 0 0 0 0;\n",
              "      width: 32px;\n",
              "    }\n",
              "\n",
              "    .colab-df-convert:hover {\n",
              "      background-color: #E2EBFA;\n",
              "      box-shadow: 0px 1px 2px rgba(60, 64, 67, 0.3), 0px 1px 3px 1px rgba(60, 64, 67, 0.15);\n",
              "      fill: #174EA6;\n",
              "    }\n",
              "\n",
              "    [theme=dark] .colab-df-convert {\n",
              "      background-color: #3B4455;\n",
              "      fill: #D2E3FC;\n",
              "    }\n",
              "\n",
              "    [theme=dark] .colab-df-convert:hover {\n",
              "      background-color: #434B5C;\n",
              "      box-shadow: 0px 1px 3px 1px rgba(0, 0, 0, 0.15);\n",
              "      filter: drop-shadow(0px 1px 2px rgba(0, 0, 0, 0.3));\n",
              "      fill: #FFFFFF;\n",
              "    }\n",
              "  </style>\n",
              "\n",
              "      <script>\n",
              "        const buttonEl =\n",
              "          document.querySelector('#df-ca174703-b74a-4f71-b2ad-fe4f65cfd26f button.colab-df-convert');\n",
              "        buttonEl.style.display =\n",
              "          google.colab.kernel.accessAllowed ? 'block' : 'none';\n",
              "\n",
              "        async function convertToInteractive(key) {\n",
              "          const element = document.querySelector('#df-ca174703-b74a-4f71-b2ad-fe4f65cfd26f');\n",
              "          const dataTable =\n",
              "            await google.colab.kernel.invokeFunction('convertToInteractive',\n",
              "                                                     [key], {});\n",
              "          if (!dataTable) return;\n",
              "\n",
              "          const docLinkHtml = 'Like what you see? Visit the ' +\n",
              "            '<a target=\"_blank\" href=https://colab.research.google.com/notebooks/data_table.ipynb>data table notebook</a>'\n",
              "            + ' to learn more about interactive tables.';\n",
              "          element.innerHTML = '';\n",
              "          dataTable['output_type'] = 'display_data';\n",
              "          await google.colab.output.renderOutput(dataTable, element);\n",
              "          const docLink = document.createElement('div');\n",
              "          docLink.innerHTML = docLinkHtml;\n",
              "          element.appendChild(docLink);\n",
              "        }\n",
              "      </script>\n",
              "    </div>\n",
              "  </div>\n",
              "  "
            ]
          },
          "metadata": {},
          "execution_count": 15
        }
      ]
    },
    {
      "metadata": {
        "trusted": true,
        "_uuid": "03bb808149698accca1d288b5b32c9d793194cde",
        "colab": {
          "base_uri": "https://localhost:8080/"
        },
        "id": "jRf9AHC-k2nd",
        "outputId": "5d3a75ad-2ece-4c3e-d744-0f7eba204c1e"
      },
      "cell_type": "code",
      "source": [
        "df.iloc[0] #linha indice 0"
      ],
      "execution_count": null,
      "outputs": [
        {
          "output_type": "execute_result",
          "data": {
            "text/plain": [
              "SepalL             4.9\n",
              "SepalW             3.0\n",
              "PetalL             1.4\n",
              "PetalW             0.2\n",
              "Species    Iris-setosa\n",
              "Name: 0, dtype: object"
            ]
          },
          "metadata": {},
          "execution_count": 17
        }
      ]
    },
    {
      "cell_type": "code",
      "source": [
        "df.iloc[-1] #última linha"
      ],
      "metadata": {
        "colab": {
          "base_uri": "https://localhost:8080/"
        },
        "id": "b33rQaz_nW78",
        "outputId": "ae092fcc-f5dd-440d-9c46-391b56878721"
      },
      "execution_count": null,
      "outputs": [
        {
          "output_type": "execute_result",
          "data": {
            "text/plain": [
              "SepalL                5.9\n",
              "SepalW                3.0\n",
              "PetalL                5.1\n",
              "PetalW                1.8\n",
              "Species    Iris-virginica\n",
              "Name: 148, dtype: object"
            ]
          },
          "metadata": {},
          "execution_count": 18
        }
      ]
    },
    {
      "metadata": {
        "trusted": true,
        "_uuid": "801dd53da683bec67cd5ec9eaece6b87d80903a9",
        "id": "70QNpbd6k2nf"
      },
      "cell_type": "code",
      "source": [
        "df.loc[:,['PetalL','SepalL']] #fatiando com .loc, este metódo trabalha com os nomes dos atributos e objetos"
      ],
      "execution_count": null,
      "outputs": []
    },
    {
      "metadata": {
        "trusted": true,
        "_uuid": "d5380ac5ad0436147657781f989ba115b0c365e5",
        "id": "9dC1xUUKk2nh"
      },
      "cell_type": "code",
      "source": [
        "df.loc[df['PetalL']>4] #aplicando uma condição a seleção"
      ],
      "execution_count": null,
      "outputs": []
    },
    {
      "metadata": {
        "trusted": true,
        "_uuid": "66497174d414ea23aaf758f8699c6f91379b9fe8",
        "id": "GcxhRQBxk2nh"
      },
      "cell_type": "code",
      "source": [
        "df.mean() #média"
      ],
      "execution_count": null,
      "outputs": []
    },
    {
      "metadata": {
        "trusted": true,
        "_uuid": "68395a620955f0cc6b428af37dbc6734d0ac8e90",
        "id": "xhBVyPE-k2ni"
      },
      "cell_type": "code",
      "source": [
        "df['PetalL'].mean() #média de um atributo específico"
      ],
      "execution_count": null,
      "outputs": []
    },
    {
      "metadata": {
        "trusted": true,
        "_uuid": "7e62f435ee1bf6b144e6e22a55a17c13ef6a40bb",
        "id": "DSkydsvBk2nj"
      },
      "cell_type": "code",
      "source": [
        "df.mode() #calculo da moda"
      ],
      "execution_count": null,
      "outputs": []
    },
    {
      "metadata": {
        "trusted": true,
        "_uuid": "85c7953792fe66c842b07ae6ca9fc75fba9284a0",
        "id": "bC1Uz81Gk2nl"
      },
      "cell_type": "code",
      "source": [
        "df['SepalW'].mode() #moda de um atributo específico"
      ],
      "execution_count": null,
      "outputs": []
    },
    {
      "metadata": {
        "trusted": true,
        "_uuid": "97262b6345a27eda4f5fb78ac1d980a468bc4c84",
        "id": "VIqFo7Y3k2nl"
      },
      "cell_type": "code",
      "source": [
        "df['SepalW'].value_counts() #contando a ocorrência de cada valor do atributo SepalW"
      ],
      "execution_count": null,
      "outputs": []
    },
    {
      "metadata": {
        "trusted": true,
        "_uuid": "fa20c362f7c06201e362d0b0595b22488d045850",
        "id": "fC-p0SXTk2nm"
      },
      "cell_type": "code",
      "source": [
        "df.max() #valor máximo"
      ],
      "execution_count": null,
      "outputs": []
    },
    {
      "metadata": {
        "trusted": true,
        "_uuid": "9bfbe2d832e688887b0ac99bcf4efdeda71e8686",
        "id": "eo-oBcS4k2nn"
      },
      "cell_type": "code",
      "source": [
        "df.min() #valor minimo"
      ],
      "execution_count": null,
      "outputs": []
    },
    {
      "metadata": {
        "trusted": true,
        "_uuid": "8d2c783865cda641da36a5d760bedc392a5c16ad",
        "id": "aCF-x16Kk2no"
      },
      "cell_type": "code",
      "source": [
        "df.median() #mediana"
      ],
      "execution_count": null,
      "outputs": []
    },
    {
      "metadata": {
        "trusted": true,
        "_uuid": "37c3a69807f25fbcd9c205d52be019dcb69ce71b",
        "id": "5WJ9UkAWk2no"
      },
      "cell_type": "code",
      "source": [
        "df.std() #desvio padrão"
      ],
      "execution_count": null,
      "outputs": []
    },
    {
      "metadata": {
        "trusted": true,
        "_uuid": "2b593f0720623384702c5ffa5cd597a0f25d5fd4",
        "id": "Bht2ZIBmk2np"
      },
      "cell_type": "code",
      "source": [
        "df.corr() #matriz de correlação"
      ],
      "execution_count": null,
      "outputs": []
    },
    {
      "metadata": {
        "trusted": true,
        "_uuid": "ab935dac662b995c9bed245d90957a9acb7755bc",
        "id": "JHY0OlGlk2nq"
      },
      "cell_type": "code",
      "source": [
        "df.sum() #soma de todos os objetos para cada atributo"
      ],
      "execution_count": null,
      "outputs": []
    },
    {
      "metadata": {
        "trusted": true,
        "_uuid": "0d29a7afa095058f82d5c05063735d4f5fe2d01f",
        "id": "cAbTrWGhk2nq"
      },
      "cell_type": "code",
      "source": [
        "df['SepalL'].sum() #soma dos valores de um atributo específico"
      ],
      "execution_count": null,
      "outputs": []
    },
    {
      "metadata": {
        "trusted": true,
        "_uuid": "d545bed5162ea14a39619477e7a095b4bb66de5e",
        "id": "Q0n_qvTak2nr"
      },
      "cell_type": "code",
      "source": [
        "df.isna().sum() #contando o número de atribulos vazios de cada atribulo (neste caso específico nenhum)"
      ],
      "execution_count": null,
      "outputs": []
    },
    {
      "metadata": {
        "trusted": true,
        "_uuid": "9ec25feec81ed9cf0a6df663afca182bed0bf1ab",
        "id": "xmLUMcyok2nr"
      },
      "cell_type": "code",
      "source": [
        "df.describe() #resumo estatístico do dataset"
      ],
      "execution_count": null,
      "outputs": []
    },
    {
      "metadata": {
        "trusted": true,
        "_uuid": "1b3d12dfc697c1e92968452da31c36575344d6d5",
        "id": "3VcIyvVwk2nr"
      },
      "cell_type": "code",
      "source": [
        "import matplotlib.pyplot as plt #importando a biblioteca\n",
        "#import seaborn as sns\n",
        "#%matplotlib inline\n",
        "\n",
        "#sns.set()\n",
        "\n",
        "#from sklearn.mixture import GaussianMixture\n",
        "#from matplotlib.colors import LogNorm\n",
        "#from matplotlib.ticker import MaxNLocator"
      ],
      "execution_count": null,
      "outputs": []
    },
    {
      "metadata": {
        "trusted": true,
        "_uuid": "af8a5dd931f613a5c07d5f87dfa033cb8887cda6",
        "id": "ID0cZIkYk2ns"
      },
      "cell_type": "code",
      "source": [
        "plt.scatter(df['PetalL'],df['PetalW'] , c=df['Species'].astype(\"category\").cat.codes.values, cmap=\"spring\"); #gráfico de dispersão\n",
        "plt.title(\"Pink = Setosa, Orange = Versicolor, Yellow = Virginica\")\n",
        "plt.xlabel(\"Petal Length CM\")\n",
        "plt.ylabel(\"Petal Width CM\")"
      ],
      "execution_count": null,
      "outputs": []
    },
    {
      "metadata": {
        "trusted": true,
        "_uuid": "76b9afb864f371672a3d90d3dc34cfa590a0faa8",
        "id": "_4YqOAS2k2ns"
      },
      "cell_type": "code",
      "source": [
        "#o código abaixo gera o mesmo gráfico acima, fiz apenas para mostrar o que é que o trecho c=df['Species'].astype(\"category\").cat.codes.values está fazendo\n",
        "#o parâmetro c é para definir a cor dos pontos vc pode passar uma cor ou um array de cores\n",
        "#o methodo astype(\"category\") transforma o tipo do atributo para categórico, em seguida o método cat.codes transforma as categorias em números, quer dizer, Setosa,Versicolor,Virginica, vira 0,1,2,\n",
        "#em seguida é usado o metodo values para pegar tudo, gerando um array com 150 valores, um para cada ponto\n",
        "plt.scatter(df['PetalL'],df['PetalW'] ,c=[0, 0, 0, 0, 0, 0, 0, 0, 0, 0, 0, 0, 0, 0, 0, 0, 0, 0, 0, 0, 0, 0,0, 0, 0, 0, 0, 0, 0, 0, 0, 0, 0, 0, 0, 0, 0, 0, 0, 0, 0, 0, 0, 0,\n",
        "       0, 0, 0, 0, 0, 0, 1, 1, 1, 1, 1, 1, 1, 1, 1, 1, 1, 1, 1, 1, 1, 1,\n",
        "       1, 1, 1, 1, 1, 1, 1, 1, 1, 1, 1, 1, 1, 1, 1, 1, 1, 1, 1, 1, 1, 1,\n",
        "       1, 1, 1, 1, 1, 1, 1, 1, 1, 1, 1, 1, 2, 2, 2, 2, 2, 2, 2, 2, 2, 2,\n",
        "       2, 2, 2, 2, 2, 2, 2, 2, 2, 2, 2, 2, 2, 2, 2, 2, 2, 2, 2, 2, 2, 2,\n",
        "       2, 2, 2, 2, 2, 2, 2, 2, 2, 2, 2, 2, 2, 2, 2, 2, 2, 2]);\n",
        "plt.title(\"Pink = Setosa, Orange = Versicolor, Yellow = Virginica\")\n",
        "plt.xlabel(\"Petal Length CM\")\n",
        "plt.ylabel(\"Petal Width CM\")"
      ],
      "execution_count": null,
      "outputs": []
    },
    {
      "metadata": {
        "trusted": true,
        "_uuid": "6d73906128dd1e0048abf1f389ebfd5d082d174b",
        "id": "mmf1WAEIk2nt"
      },
      "cell_type": "code",
      "source": [
        "plt.hist(df['PetalL'], bins=10, facecolor='red', alpha=0.5) #histograma\n",
        "plt.title(\"Histograma\")\n",
        "plt.xlabel(\"contagem\")\n",
        "plt.ylabel(\"Petal Length CM\")\n",
        "plt.show()\n",
        "#saveimg('foo.png') #salvando a imagem no disco"
      ],
      "execution_count": null,
      "outputs": []
    },
    {
      "metadata": {
        "trusted": true,
        "_uuid": "0bf0bccf050f7de4c8ac272806a1d92833dc8fe9",
        "id": "X1phOcpBk2nu"
      },
      "cell_type": "code",
      "source": [
        "plt.figure(figsize=(15, 6),facecolor='w')\n",
        "plt.boxplot([df['PetalL'],df['PetalW'],df['SepalL'],df['SepalW']]) #histograma\n",
        "plt.title(\"Boxplot para os 4 atributos\")\n",
        "plt.xlabel(\"Atributos\")\n",
        "plt.ylabel(\"Valores dos atributos\")\n",
        "plt.show()\n",
        "#saveimg('foo.png') #salvando a imagem no disco"
      ],
      "execution_count": null,
      "outputs": []
    },
    {
      "metadata": {
        "trusted": true,
        "_uuid": "a952f54b1c6446a7cfb400e965d0d7ef00ae7ed2",
        "id": "-z2JVvCgk2nu"
      },
      "cell_type": "code",
      "source": [
        "x= list(range(0,100)) #cria uma lista com números de 0 a 99\n",
        "y= x\n",
        "plt.plot(x,y)\n",
        "plt.title(\"Gráfico da Reta y=x\")\n",
        "plt.xlabel(\"x\")\n",
        "plt.ylabel(\"y\")\n",
        "plt.show()"
      ],
      "execution_count": null,
      "outputs": []
    },
    {
      "metadata": {
        "trusted": true,
        "_uuid": "46c6c270dd5e873889874e15cd9e31a025dda405",
        "id": "02O0NzLhk2nu"
      },
      "cell_type": "code",
      "source": [
        "x= list(range(0,1000)) #cria uma lista com números de 0 a 99\n",
        "y= [4*n*n for n in x] # list compreehesion iterando sobre a lista x\n",
        "plt.plot(x,y)\n",
        "plt.title(\"Gráfico da Parábola y=4x^2\")\n",
        "plt.xlabel(\"x\")\n",
        "plt.ylabel(\"y\")\n",
        "plt.show()"
      ],
      "execution_count": null,
      "outputs": []
    },
    {
      "metadata": {
        "trusted": true,
        "_uuid": "a138f37606aa5dd811a368af2c9d82cfbe6fd20d",
        "id": "jgE_h35Ak2nv"
      },
      "cell_type": "code",
      "source": [
        "x= np.arange(0,100) #cria uma lista com números de 0 a 99 usando a numpy\n",
        "y= 4*x*x \n",
        "plt.plot(x,y)\n",
        "plt.title(\"Gráfico da Parábola y=4x^2\")\n",
        "plt.xlabel(\"x\")\n",
        "plt.ylabel(\"y\")\n",
        "plt.show()"
      ],
      "execution_count": null,
      "outputs": []
    },
    {
      "metadata": {
        "trusted": true,
        "_uuid": "bb460da56b7d7042ef49dbdeeb7bbd21bce35586",
        "id": "1HehaPf5k2nv"
      },
      "cell_type": "code",
      "source": [
        "x= np.arange(0,10,0.01) #cria uma lista com números de 0 a 50 com intervalos de 0.01\n",
        "y= np.sin(x) \n",
        "plt.figure(figsize=(15, 6),facecolor='w')\n",
        "plt.plot(x,y)\n",
        "plt.title(\"Gráfico y=seno(x)\")\n",
        "plt.xlabel(\"x\")\n",
        "plt.ylabel(\"y\")\n",
        "plt.show()"
      ],
      "execution_count": null,
      "outputs": []
    },
    {
      "metadata": {
        "trusted": true,
        "_uuid": "5af598e46df9dcb4ec54ef386d82300e837b1081",
        "id": "wdEDm89Yk2nw"
      },
      "cell_type": "code",
      "source": [],
      "execution_count": null,
      "outputs": []
    }
  ],
  "metadata": {
    "kernelspec": {
      "display_name": "Python 3",
      "language": "python",
      "name": "python3"
    },
    "language_info": {
      "name": "python",
      "version": "3.6.6",
      "mimetype": "text/x-python",
      "codemirror_mode": {
        "name": "ipython",
        "version": 3
      },
      "pygments_lexer": "ipython3",
      "nbconvert_exporter": "python",
      "file_extension": ".py"
    },
    "colab": {
      "provenance": [],
      "collapsed_sections": []
    }
  },
  "nbformat": 4,
  "nbformat_minor": 0
}